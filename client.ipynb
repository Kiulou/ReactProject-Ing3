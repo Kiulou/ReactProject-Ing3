{
 "cells": [
  {
   "cell_type": "code",
   "execution_count": 5,
   "metadata": {},
   "outputs": [],
   "source": [
    "import pandas as pd\n",
    "import numpy as np\n",
    "import requests\n",
    "import matplotlib.pyplot as plt"
   ]
  },
  {
   "cell_type": "markdown",
   "metadata": {},
   "source": [
    "# Stars néées en 1969"
   ]
  },
  {
   "cell_type": "code",
   "execution_count": 6,
   "metadata": {},
   "outputs": [
    {
     "name": "stdout",
     "output_type": "stream",
     "text": [
      "                       name   birthdate\n",
      "id                                     \n",
      "479903  Aaron Michael Lacey  1969-01-01\n",
      "72344       Abraham Benrubi  1969-01-01\n",
      "542022         Alex Manette  1969-01-01\n",
      "373312    Alexandra Hedison  1969-01-01\n",
      "793         Alexis Arquette  1969-01-01\n",
      "...                     ...         ...\n",
      "551223     Vanessa Marshall  1969-01-01\n",
      "873942         Verne Troyer  1969-01-01\n",
      "890075       Victor Varnado  1969-01-01\n",
      "422639          Wenli Jiang  1969-01-01\n",
      "365445          Wood Harris  1969-01-01\n",
      "\n",
      "[126 rows x 2 columns]\n"
     ]
    }
   ],
   "source": [
    "response = requests.get('http://localhost:8000/stars/by_birthyear/1969')\n",
    "if response.status_code == 200:\n",
    "    dfStarByBirthday = pd.DataFrame(response.json())\n",
    "    dfStarByBirthday.set_index('id', inplace=True)\n",
    "    print(dfStarByBirthday)\n",
    "else:\n",
    "    print('Error', response.status_code, response.json(), sep=', ')"
   ]
  },
  {
   "cell_type": "markdown",
   "metadata": {},
   "source": [
    "# Film dont le titre contient 'Excuse'"
   ]
  },
  {
   "cell_type": "code",
   "execution_count": 7,
   "metadata": {},
   "outputs": [
    {
     "name": "stdout",
     "output_type": "stream",
     "text": [
      "          title  year  duration\n",
      "id                             \n",
      "5257  Excuse Me  1915        50\n"
     ]
    }
   ],
   "source": [
    "response = requests.get('http://localhost:8000/movies/by_title_part?t=Excuse')\n",
    "if response.status_code == 200:\n",
    "    dfMovieByPartTitle = pd.DataFrame(response.json())\n",
    "    dfMovieByPartTitle.set_index('id', inplace=True)\n",
    "    print(dfMovieByPartTitle)\n",
    "else:\n",
    "    print('Error', response.status_code, response.json(), sep=', ')"
   ]
  },
  {
   "cell_type": "markdown",
   "metadata": {},
   "source": [
    "# Nombre de films par acteur"
   ]
  },
  {
   "cell_type": "code",
   "execution_count": 8,
   "metadata": {},
   "outputs": [
    {
     "name": "stdout",
     "output_type": "stream",
     "text": [
      "                                                Acteur  Nombre de films\n",
      "0    {'birthdate': '1907-05-26', 'name': 'John Wayn...              172\n",
      "1    {'birthdate': '1884-03-16', 'name': 'Harrison ...               86\n",
      "2    {'birthdate': '1930-08-25', 'name': 'Sean Conn...               73\n",
      "3    {'birthdate': '1946-07-06', 'name': 'Sylvester...               73\n",
      "4    {'birthdate': '1956-07-09', 'name': 'Tom Hanks...               69\n",
      "..                                                 ...              ...\n",
      "161  {'birthdate': '1939-01-01', 'name': 'Patrick W...               10\n",
      "162  {'birthdate': '1946-01-01', 'name': 'Frank Wel...               10\n",
      "163  {'birthdate': '1905-01-01', 'name': 'Grant Wit...               10\n",
      "164  {'birthdate': '1977-01-01', 'name': 'Michael F...               10\n",
      "165  {'birthdate': None, 'name': 'Joseph Oliveira',...               10\n",
      "\n",
      "[166 rows x 2 columns]\n"
     ]
    }
   ],
   "source": [
    "response = requests.get('http://localhost:8000/stars/stats_movie_by_actor')\n",
    "if response.status_code == 200:\n",
    "    dfStatActor = pd.DataFrame(response.json())\n",
    "    dfStatActor.columns=[\"Acteur\",\"Nombre de films\"]\n",
    "    print(dfStatActor)\n",
    "else:\n",
    "    print('Error', response.status_code, response.json(), sep=', ')"
   ]
  },
  {
   "cell_type": "markdown",
   "metadata": {},
   "source": [
    "# Film par année"
   ]
  },
  {
   "cell_type": "code",
   "execution_count": 9,
   "metadata": {},
   "outputs": [
    {
     "data": {
      "text/plain": [
       "<matplotlib.axes._subplots.AxesSubplot at 0x7f80a07975e0>"
      ]
     },
     "execution_count": 9,
     "metadata": {},
     "output_type": "execute_result"
    },
    {
     "data": {
      "image/png": "[encoded data removed]",
      "text/plain": [
       "<Figure size 432x288 with 1 Axes>"
      ]
     },
     "metadata": {
      "needs_background": "light"
     },
     "output_type": "display_data"
    }
   ],
   "source": [
    "dfStatMovieByYear = pd.read_json(\"http://localhost:8000/movies/count_by_year\")\n",
    "dfStatMovieByYear.columns=['annee','counts']\n",
    "dfStatMovieByYearGraph = dfStatMovieByYear[dfStatMovieByYear.counts > 10].set_index('annee')\n",
    "dfStatMovieByYearGraph.plot()"
   ]
  },
  {
   "cell_type": "markdown",
   "metadata": {},
   "source": [
    "# Stars nées par année"
   ]
  },
  {
   "cell_type": "code",
   "execution_count": 10,
   "metadata": {},
   "outputs": [
    {
     "data": {
      "text/plain": [
       "<matplotlib.axes._subplots.AxesSubplot at 0x7f809ff42ca0>"
      ]
     },
     "execution_count": 10,
     "metadata": {},
     "output_type": "execute_result"
    },
    {
     "data": {
      "image/png": "[encoded data removed]",
      "text/plain": [
       "<Figure size 432x288 with 1 Axes>"
      ]
     },
     "metadata": {
      "needs_background": "light"
     },
     "output_type": "display_data"
    }
   ],
   "source": [
    "dfStars = pd.read_json(\"http://localhost:8000/stars\",convert_dates=['birthdate'])\n",
    "dfStars.set_index('id', inplace=True)\n",
    "dfStars['annee'] = dfStars.birthdate.dt.year\n",
    "dfCountStarByYear = dfStars[['annee','name']].groupby(['annee']).count()\n",
    "dfCountStarByYear.plot()"
   ]
  },
  {
   "cell_type": "markdown",
   "metadata": {},
   "source": [
    "# Top 10 acteurs"
   ]
  },
  {
   "cell_type": "code",
   "execution_count": 11,
   "metadata": {},
   "outputs": [
    {
     "data": {
      "text/html": [
       "<div>\n",
       "<style scoped>\n",
       "    .dataframe tbody tr th:only-of-type {\n",
       "        vertical-align: middle;\n",
       "    }\n",
       "\n",
       "    .dataframe tbody tr th {\n",
       "        vertical-align: top;\n",
       "    }\n",
       "\n",
       "    .dataframe thead th {\n",
       "        text-align: right;\n",
       "    }\n",
       "</style>\n",
       "<table border=\"1\" class=\"dataframe\">\n",
       "  <thead>\n",
       "    <tr style=\"text-align: right;\">\n",
       "      <th></th>\n",
       "      <th>Acteur</th>\n",
       "      <th>movie_count</th>\n",
       "      <th>first_movie</th>\n",
       "      <th>last_movie</th>\n",
       "    </tr>\n",
       "  </thead>\n",
       "  <tbody>\n",
       "    <tr>\n",
       "      <th>0</th>\n",
       "      <td>John Wayne</td>\n",
       "      <td>172</td>\n",
       "      <td>1926</td>\n",
       "      <td>1976</td>\n",
       "    </tr>\n",
       "    <tr>\n",
       "      <th>1</th>\n",
       "      <td>Harrison Ford</td>\n",
       "      <td>86</td>\n",
       "      <td>1915</td>\n",
       "      <td>1932</td>\n",
       "    </tr>\n",
       "    <tr>\n",
       "      <th>2</th>\n",
       "      <td>Sylvester Stallone</td>\n",
       "      <td>73</td>\n",
       "      <td>1969</td>\n",
       "      <td>2019</td>\n",
       "    </tr>\n",
       "    <tr>\n",
       "      <th>3</th>\n",
       "      <td>Sean Connery</td>\n",
       "      <td>73</td>\n",
       "      <td>1954</td>\n",
       "      <td>2012</td>\n",
       "    </tr>\n",
       "    <tr>\n",
       "      <th>4</th>\n",
       "      <td>Tom Hanks</td>\n",
       "      <td>69</td>\n",
       "      <td>1980</td>\n",
       "      <td>2020</td>\n",
       "    </tr>\n",
       "    <tr>\n",
       "      <th>5</th>\n",
       "      <td>Jean-Claude Van Damme</td>\n",
       "      <td>66</td>\n",
       "      <td>1979</td>\n",
       "      <td>2019</td>\n",
       "    </tr>\n",
       "    <tr>\n",
       "      <th>6</th>\n",
       "      <td>Clint Eastwood</td>\n",
       "      <td>63</td>\n",
       "      <td>1955</td>\n",
       "      <td>2018</td>\n",
       "    </tr>\n",
       "    <tr>\n",
       "      <th>7</th>\n",
       "      <td>Harrison Ford</td>\n",
       "      <td>63</td>\n",
       "      <td>1966</td>\n",
       "      <td>2020</td>\n",
       "    </tr>\n",
       "    <tr>\n",
       "      <th>8</th>\n",
       "      <td>Arnold Schwarzenegger</td>\n",
       "      <td>56</td>\n",
       "      <td>1970</td>\n",
       "      <td>2019</td>\n",
       "    </tr>\n",
       "    <tr>\n",
       "      <th>9</th>\n",
       "      <td>Will Smith</td>\n",
       "      <td>50</td>\n",
       "      <td>1988</td>\n",
       "      <td>2020</td>\n",
       "    </tr>\n",
       "  </tbody>\n",
       "</table>\n",
       "</div>"
      ],
      "text/plain": [
       "                  Acteur  movie_count  first_movie  last_movie\n",
       "0             John Wayne          172         1926        1976\n",
       "1          Harrison Ford           86         1915        1932\n",
       "2     Sylvester Stallone           73         1969        2019\n",
       "3           Sean Connery           73         1954        2012\n",
       "4              Tom Hanks           69         1980        2020\n",
       "5  Jean-Claude Van Damme           66         1979        2019\n",
       "6         Clint Eastwood           63         1955        2018\n",
       "7          Harrison Ford           63         1966        2020\n",
       "8  Arnold Schwarzenegger           56         1970        2019\n",
       "9             Will Smith           50         1988        2020"
      ]
     },
     "execution_count": 11,
     "metadata": {},
     "output_type": "execute_result"
    }
   ],
   "source": [
    "response = requests.get(\"http://localhost:8000/stars/stats2_movie_by_actor?minc=30\")\n",
    "data_json = response.json()\n",
    "my_response = [ { \"Acteur\" : d[0]['name'],\n",
    "               \"movie_count\":d[1],\n",
    "               \"first_movie\":d[2],\n",
    "               \"last_movie\":d[3] } for d in data_json]\n",
    "dfActors = pd.DataFrame(my_response)\n",
    "dfTop10Actors = dfActors[:10]\n",
    "dfTop10Actors"
   ]
  },
  {
   "cell_type": "code",
   "execution_count": 12,
   "metadata": {},
   "outputs": [
    {
     "ename": "NameError",
     "evalue": "name 'dfTop10ActorsMovieCount' is not defined",
     "output_type": "error",
     "traceback": [
      "\u001b[0;31m---------------------------------------------------------------------------\u001b[0m",
      "\u001b[0;31mNameError\u001b[0m                                 Traceback (most recent call last)",
      "\u001b[0;32m<ipython-input-12-f7cdf1128b2e>\u001b[0m in \u001b[0;36m<module>\u001b[0;34m\u001b[0m\n\u001b[1;32m      3\u001b[0m \u001b[0mig\u001b[0m\u001b[0;34m,\u001b[0m \u001b[0;34m(\u001b[0m\u001b[0max1\u001b[0m\u001b[0;34m,\u001b[0m \u001b[0max2\u001b[0m\u001b[0;34m)\u001b[0m \u001b[0;34m=\u001b[0m \u001b[0mplt\u001b[0m\u001b[0;34m.\u001b[0m\u001b[0msubplots\u001b[0m\u001b[0;34m(\u001b[0m\u001b[0;36m1\u001b[0m\u001b[0;34m,\u001b[0m \u001b[0;36m2\u001b[0m\u001b[0;34m,\u001b[0m \u001b[0mfigsize\u001b[0m\u001b[0;34m=\u001b[0m\u001b[0;34m(\u001b[0m\u001b[0;36m16\u001b[0m\u001b[0;34m,\u001b[0m\u001b[0;36m5\u001b[0m\u001b[0;34m)\u001b[0m\u001b[0;34m)\u001b[0m\u001b[0;34m\u001b[0m\u001b[0;34m\u001b[0m\u001b[0m\n\u001b[1;32m      4\u001b[0m \u001b[0;34m\u001b[0m\u001b[0m\n\u001b[0;32m----> 5\u001b[0;31m \u001b[0mdfTop10ActorsMovieCount\u001b[0m\u001b[0;34m.\u001b[0m\u001b[0mplot\u001b[0m\u001b[0;34m(\u001b[0m\u001b[0mkind\u001b[0m\u001b[0;34m=\u001b[0m\u001b[0;34m\"bar\"\u001b[0m\u001b[0;34m,\u001b[0m \u001b[0max\u001b[0m\u001b[0;34m=\u001b[0m\u001b[0max1\u001b[0m\u001b[0;34m)\u001b[0m\u001b[0;34m\u001b[0m\u001b[0;34m\u001b[0m\u001b[0m\n\u001b[0m\u001b[1;32m      6\u001b[0m \u001b[0max1\u001b[0m\u001b[0;34m.\u001b[0m\u001b[0mset_title\u001b[0m\u001b[0;34m(\u001b[0m\u001b[0;34m\"Nombre de films par acteur\"\u001b[0m\u001b[0;34m)\u001b[0m\u001b[0;34m\u001b[0m\u001b[0;34m\u001b[0m\u001b[0m\n\u001b[1;32m      7\u001b[0m \u001b[0max1\u001b[0m\u001b[0;34m.\u001b[0m\u001b[0mset_ylabel\u001b[0m\u001b[0;34m(\u001b[0m\u001b[0;34m\"movie_count\"\u001b[0m\u001b[0;34m)\u001b[0m\u001b[0;34m\u001b[0m\u001b[0;34m\u001b[0m\u001b[0m\n",
      "\u001b[0;31mNameError\u001b[0m: name 'dfTop10ActorsMovieCount' is not defined"
     ]
    },
    {
     "data": {
      "image/png": "[encoded data removed]",
      "text/plain": [
       "<Figure size 1152x360 with 2 Axes>"
      ]
     },
     "metadata": {
      "needs_background": "light"
     },
     "output_type": "display_data"
    }
   ],
   "source": [
    "dfTop10ActorsCountMovie = dfTop10Actors[['Acteur', 'movie_count']].set_index('Acteur')\n",
    "dfTop10ActorsYears = dfTop10Actors[['Acteur', 'first_movie', 'last_movie']].set_index('Acteur')\n",
    "ig, (ax1, ax2) = plt.subplots(1, 2, figsize=(16,5))\n",
    "\n",
    "dfTop10ActorsCountMovie.plot(kind=\"bar\", ax=ax1)\n",
    "ax1.set_title(\"Nombre de films par acteur\")\n",
    "ax1.set_ylabel(\"movie_count\")\n",
    "ax1.set_xlabel(\"Acteurs du top 10\")\n",
    "\n",
    "dfTop10ActorsYears.plot(kind=\"bar\", ax=ax2)\n",
    "ax2.set_title(\"Premier/Dernier film des acteurs\")\n",
    "ax2.set_ylabel(\"Année film\")\n",
    "ax2.set_xlabel(\"Top 10 Acteur\")\n",
    "ax2.set_ylim(1900, 2025)"
   ]
  },
  {
   "cell_type": "code",
   "execution_count": null,
   "metadata": {},
   "outputs": [],
   "source": []
  },
  {
   "cell_type": "code",
   "execution_count": null,
   "metadata": {},
   "outputs": [],
   "source": []
  },
  {
   "cell_type": "code",
   "execution_count": null,
   "metadata": {},
   "outputs": [],
   "source": []
  },
  {
   "cell_type": "code",
   "execution_count": null,
   "metadata": {},
   "outputs": [],
   "source": []
  },
  {
   "cell_type": "code",
   "execution_count": null,
   "metadata": {},
   "outputs": [],
   "source": []
  },
  {
   "cell_type": "code",
   "execution_count": null,
   "metadata": {},
   "outputs": [],
   "source": []
  },
  {
   "cell_type": "code",
   "execution_count": null,
   "metadata": {},
   "outputs": [],
   "source": []
  },
  {
   "cell_type": "code",
   "execution_count": null,
   "metadata": {},
   "outputs": [],
   "source": []
  },
  {
   "cell_type": "code",
   "execution_count": null,
   "metadata": {},
   "outputs": [],
   "source": []
  }
 ],
 "metadata": {
  "kernelspec": {
   "display_name": "Python 3",
   "language": "python",
   "name": "python3"
  },
  "language_info": {
   "codemirror_mode": {
    "name": "ipython",
    "version": 3
   },
   "file_extension": ".py",
   "mimetype": "text/x-python",
   "name": "python",
   "nbconvert_exporter": "python",
   "pygments_lexer": "ipython3",
   "version": "3.8.3"
  }
 },
 "nbformat": 4,
 "nbformat_minor": 4
}
